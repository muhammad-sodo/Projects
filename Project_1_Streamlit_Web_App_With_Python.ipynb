{
  "nbformat": 4,
  "nbformat_minor": 0,
  "metadata": {
    "colab": {
      "provenance": [],
      "authorship_tag": "ABX9TyPzvbV55YE/IfqLM07Pq0Sq",
      "include_colab_link": true
    },
    "kernelspec": {
      "name": "python3",
      "display_name": "Python 3"
    },
    "language_info": {
      "name": "python"
    }
  },
  "cells": [
    {
      "cell_type": "markdown",
      "metadata": {
        "id": "view-in-github",
        "colab_type": "text"
      },
      "source": [
        "<a href=\"https://colab.research.google.com/github/muhammad-sodo/Projects/blob/main/Project_1_Streamlit_Web_App_With_Python.ipynb\" target=\"_parent\"><img src=\"https://colab.research.google.com/assets/colab-badge.svg\" alt=\"Open In Colab\"/></a>"
      ]
    },
    {
      "cell_type": "code",
      "execution_count": 1,
      "metadata": {
        "colab": {
          "base_uri": "https://localhost:8080/",
          "height": 644
        },
        "id": "Yf2wWtQac_DM",
        "outputId": "1f02baf6-bacf-414e-9b0f-fdf66cb8e4c8"
      },
      "outputs": [
        {
          "output_type": "error",
          "ename": "ModuleNotFoundError",
          "evalue": "No module named 'streamlit'",
          "traceback": [
            "\u001b[0;31m---------------------------------------------------------------------------\u001b[0m",
            "\u001b[0;31mModuleNotFoundError\u001b[0m                       Traceback (most recent call last)",
            "\u001b[0;32m<ipython-input-1-84fd6c53d6ed>\u001b[0m in \u001b[0;36m<cell line: 0>\u001b[0;34m()\u001b[0m\n\u001b[1;32m      1\u001b[0m \u001b[0;31m# streamlit_app.py\u001b[0m\u001b[0;34m\u001b[0m\u001b[0;34m\u001b[0m\u001b[0m\n\u001b[1;32m      2\u001b[0m \u001b[0;34m\u001b[0m\u001b[0m\n\u001b[0;32m----> 3\u001b[0;31m \u001b[0;32mimport\u001b[0m \u001b[0mstreamlit\u001b[0m \u001b[0;32mas\u001b[0m \u001b[0mst\u001b[0m\u001b[0;34m\u001b[0m\u001b[0;34m\u001b[0m\u001b[0m\n\u001b[0m\u001b[1;32m      4\u001b[0m \u001b[0;32mimport\u001b[0m \u001b[0mpandas\u001b[0m \u001b[0;32mas\u001b[0m \u001b[0mpd\u001b[0m\u001b[0;34m\u001b[0m\u001b[0;34m\u001b[0m\u001b[0m\n\u001b[1;32m      5\u001b[0m \u001b[0;32mimport\u001b[0m \u001b[0mrequests\u001b[0m\u001b[0;34m\u001b[0m\u001b[0;34m\u001b[0m\u001b[0m\n",
            "\u001b[0;31mModuleNotFoundError\u001b[0m: No module named 'streamlit'",
            "",
            "\u001b[0;31m---------------------------------------------------------------------------\u001b[0;32m\nNOTE: If your import is failing due to a missing package, you can\nmanually install dependencies using either !pip or !apt.\n\nTo view examples of installing some common dependencies, click the\n\"Open Examples\" button below.\n\u001b[0;31m---------------------------------------------------------------------------\u001b[0m\n"
          ],
          "errorDetails": {
            "actions": [
              {
                "action": "open_url",
                "actionText": "Open Examples",
                "url": "/notebooks/snippets/importing_libraries.ipynb"
              }
            ]
          }
        }
      ],
      "source": [
        "\n",
        "# streamlit_app.py\n",
        "\n",
        "import streamlit as st\n",
        "import pandas as pd\n",
        "import requests\n",
        "import pydeck as pdk\n",
        "\n",
        "st.set_page_config(page_title=\"Toronto BikeShare Live Map\", layout=\"wide\")\n",
        "\n",
        "st.title(\"🚲 Toronto BikeShare - Live Bike Station Map\")\n",
        "\n",
        "# GTFS JSON feeds\n",
        "stations_url = \"https://tor.publicbikesystem.net/ube/gbfs/en/station_information.json\"\n",
        "status_url = \"https://tor.publicbikesystem.net/ube/gbfs/en/station_status.json\"\n",
        "\n",
        "@st.cache_data(ttl=60)  # Updates data every 60 seconds\n",
        "def load_data():\n",
        "    stations = requests.get(stations_url).json()\n",
        "    status = requests.get(status_url).json()\n",
        "\n",
        "    stations_df = pd.DataFrame(stations[\"data\"][\"stations\"])\n",
        "    status_df = pd.DataFrame(status[\"data\"][\"stations\"])\n",
        "\n",
        "    merged_df = pd.merge(stations_df, status_df, on=\"station_id\")\n",
        "    return merged_df\n",
        "\n",
        "df = load_data()\n",
        "\n",
        "# Interactive filter\n",
        "min_bikes = st.slider(\"Minimum number of available bikes:\", 0, 20, 1)\n",
        "\n",
        "filtered_df = df[df[\"num_bikes_available\"] >= min_bikes]\n",
        "\n",
        "# Display map\n",
        "st.subheader(\"📍 Station Map\")\n",
        "st.pydeck_chart(pdk.Deck(\n",
        "    map_style='mapbox://styles/mapbox/light-v9',\n",
        "    initial_view_state=pdk.ViewState(\n",
        "        latitude=43.651070,\n",
        "        longitude=-79.347015,\n",
        "        zoom=12,\n",
        "        pitch=50,\n",
        "    ),\n",
        "    layers=[\n",
        "        pdk.Layer(\n",
        "            'ScatterplotLayer',\n",
        "            data=filtered_df,\n",
        "            get_position='[lon, lat]',\n",
        "            get_color='[200, 30, 0, 160]',\n",
        "            get_radius=100,\n",
        "        ),\n",
        "        pdk.Layer(\n",
        "            \"TextLayer\",\n",
        "            data=filtered_df,\n",
        "            get_position='[lon, lat]',\n",
        "            get_text='name',\n",
        "            get_size=12,\n",
        "            get_color=[0, 0, 0],\n",
        "            get_angle=0,\n",
        "            get_alignment_baseline=\"'bottom'\",\n",
        "        )\n",
        "    ],\n",
        "))\n",
        "\n",
        "# Display data table\n",
        "st.subheader(\"📊 Station Details\")\n",
        "st.dataframe(filtered_df[[\"name\", \"num_bikes_available\", \"num_docks_available\"]])"
      ]
    }
  ]
}